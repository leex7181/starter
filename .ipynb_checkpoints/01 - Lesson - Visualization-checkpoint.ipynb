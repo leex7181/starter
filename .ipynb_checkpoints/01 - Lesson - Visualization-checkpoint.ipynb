{
 "cells": [
  {
   "cell_type": "markdown",
   "id": "ff26ea89",
   "metadata": {},
   "source": [
    "# Data Visualization"
   ]
  },
  {
   "cell_type": "markdown",
   "id": "943f2359",
   "metadata": {},
   "source": [
    "![Data Science Workflow](img/ds-workflow.png)"
   ]
  },
  {
   "cell_type": "markdown",
   "id": "f7df062b",
   "metadata": {},
   "source": [
    "## Data Visualization\n",
    "\n",
    "Key skill today\n",
    ">  *“The ability to take data-to be able to understand it, to process it, to extract value from it, to visualize it, to communicate it-that’s going to be a hugely important skill in the next decades.\"*\n",
    "\n",
    "[Hal Varian (Google’s Chief Economist)](https://en.wikipedia.org/wiki/Hal_Varian)"
   ]
  },
  {
   "cell_type": "markdown",
   "id": "fb269ad4",
   "metadata": {},
   "source": [
    "## Data Visualization for a Data Scientist\n",
    "1. **Data Quality**: Explore data quality including identifying outliers\n",
    "2. **Data Exploration**: Understand data with visualizing ideas\n",
    "3. **Data Presentation**: Present results"
   ]
  },
  {
   "cell_type": "markdown",
   "id": "2dee1d5c",
   "metadata": {},
   "source": [
    "## The power of Data Visualization\n",
    "\n",
    "### Consider the following data\n",
    "- what is the connection?\n",
    "- See any patterns?"
   ]
  },
  {
   "cell_type": "code",
   "execution_count": 14,
   "id": "f25b26c5",
   "metadata": {},
   "outputs": [],
   "source": [
    "import pandas as pd"
   ]
  },
  {
   "cell_type": "code",
   "execution_count": 15,
   "id": "2b9cab1f",
   "metadata": {},
   "outputs": [],
   "source": [
    "data = pd.read_csv('files/sample_corr.csv')"
   ]
  },
  {
   "cell_type": "code",
   "execution_count": 16,
   "id": "3428ecce",
   "metadata": {},
   "outputs": [
    {
     "data": {
      "text/html": [
       "<div>\n",
       "<style scoped>\n",
       "    .dataframe tbody tr th:only-of-type {\n",
       "        vertical-align: middle;\n",
       "    }\n",
       "\n",
       "    .dataframe tbody tr th {\n",
       "        vertical-align: top;\n",
       "    }\n",
       "\n",
       "    .dataframe thead th {\n",
       "        text-align: right;\n",
       "    }\n",
       "</style>\n",
       "<table border=\"1\" class=\"dataframe\">\n",
       "  <thead>\n",
       "    <tr style=\"text-align: right;\">\n",
       "      <th></th>\n",
       "      <th>x</th>\n",
       "      <th>y</th>\n",
       "    </tr>\n",
       "  </thead>\n",
       "  <tbody>\n",
       "    <tr>\n",
       "      <th>0</th>\n",
       "      <td>1.105722</td>\n",
       "      <td>1.320945</td>\n",
       "    </tr>\n",
       "    <tr>\n",
       "      <th>1</th>\n",
       "      <td>1.158193</td>\n",
       "      <td>1.480131</td>\n",
       "    </tr>\n",
       "    <tr>\n",
       "      <th>2</th>\n",
       "      <td>1.068022</td>\n",
       "      <td>1.173479</td>\n",
       "    </tr>\n",
       "    <tr>\n",
       "      <th>3</th>\n",
       "      <td>1.131291</td>\n",
       "      <td>1.294706</td>\n",
       "    </tr>\n",
       "    <tr>\n",
       "      <th>4</th>\n",
       "      <td>1.125997</td>\n",
       "      <td>1.293024</td>\n",
       "    </tr>\n",
       "    <tr>\n",
       "      <th>5</th>\n",
       "      <td>1.037332</td>\n",
       "      <td>0.977393</td>\n",
       "    </tr>\n",
       "    <tr>\n",
       "      <th>6</th>\n",
       "      <td>1.051670</td>\n",
       "      <td>1.040798</td>\n",
       "    </tr>\n",
       "    <tr>\n",
       "      <th>7</th>\n",
       "      <td>0.971699</td>\n",
       "      <td>0.977604</td>\n",
       "    </tr>\n",
       "    <tr>\n",
       "      <th>8</th>\n",
       "      <td>1.102914</td>\n",
       "      <td>1.127956</td>\n",
       "    </tr>\n",
       "    <tr>\n",
       "      <th>9</th>\n",
       "      <td>1.164161</td>\n",
       "      <td>1.431070</td>\n",
       "    </tr>\n",
       "    <tr>\n",
       "      <th>10</th>\n",
       "      <td>1.161464</td>\n",
       "      <td>1.344481</td>\n",
       "    </tr>\n",
       "    <tr>\n",
       "      <th>11</th>\n",
       "      <td>1.080161</td>\n",
       "      <td>1.191159</td>\n",
       "    </tr>\n",
       "    <tr>\n",
       "      <th>12</th>\n",
       "      <td>0.996044</td>\n",
       "      <td>0.997308</td>\n",
       "    </tr>\n",
       "    <tr>\n",
       "      <th>13</th>\n",
       "      <td>1.143305</td>\n",
       "      <td>1.412850</td>\n",
       "    </tr>\n",
       "    <tr>\n",
       "      <th>14</th>\n",
       "      <td>1.062949</td>\n",
       "      <td>1.139761</td>\n",
       "    </tr>\n",
       "    <tr>\n",
       "      <th>15</th>\n",
       "      <td>1.149252</td>\n",
       "      <td>1.455886</td>\n",
       "    </tr>\n",
       "    <tr>\n",
       "      <th>16</th>\n",
       "      <td>1.190105</td>\n",
       "      <td>1.489407</td>\n",
       "    </tr>\n",
       "    <tr>\n",
       "      <th>17</th>\n",
       "      <td>1.026498</td>\n",
       "      <td>1.153031</td>\n",
       "    </tr>\n",
       "    <tr>\n",
       "      <th>18</th>\n",
       "      <td>1.110015</td>\n",
       "      <td>1.329586</td>\n",
       "    </tr>\n",
       "    <tr>\n",
       "      <th>19</th>\n",
       "      <td>1.077741</td>\n",
       "      <td>1.277995</td>\n",
       "    </tr>\n",
       "  </tbody>\n",
       "</table>\n",
       "</div>"
      ],
      "text/plain": [
       "           x         y\n",
       "0   1.105722  1.320945\n",
       "1   1.158193  1.480131\n",
       "2   1.068022  1.173479\n",
       "3   1.131291  1.294706\n",
       "4   1.125997  1.293024\n",
       "5   1.037332  0.977393\n",
       "6   1.051670  1.040798\n",
       "7   0.971699  0.977604\n",
       "8   1.102914  1.127956\n",
       "9   1.164161  1.431070\n",
       "10  1.161464  1.344481\n",
       "11  1.080161  1.191159\n",
       "12  0.996044  0.997308\n",
       "13  1.143305  1.412850\n",
       "14  1.062949  1.139761\n",
       "15  1.149252  1.455886\n",
       "16  1.190105  1.489407\n",
       "17  1.026498  1.153031\n",
       "18  1.110015  1.329586\n",
       "19  1.077741  1.277995"
      ]
     },
     "execution_count": 16,
     "metadata": {},
     "output_type": "execute_result"
    }
   ],
   "source": [
    "data"
   ]
  },
  {
   "cell_type": "code",
   "execution_count": null,
   "id": "c7e2b6ca",
   "metadata": {},
   "outputs": [],
   "source": []
  },
  {
   "cell_type": "code",
   "execution_count": null,
   "id": "9e14eaa2",
   "metadata": {},
   "outputs": [],
   "source": []
  },
  {
   "cell_type": "markdown",
   "id": "8ab4aa11",
   "metadata": {},
   "source": [
    "### Visualizing the same data\n",
    "- Let's try to visualize the data"
   ]
  },
  {
   "cell_type": "markdown",
   "id": "a820da43",
   "metadata": {},
   "source": [
    "[Matplotlib](https://matplotlib.org) is an easy to use visualization library for Python.\n",
    "\n",
    "In Notebooks you get started with.\n",
    "```Python\n",
    "import matplotlib.pyplot as plt\n",
    "%matplotlib inline\n",
    "```"
   ]
  },
  {
   "cell_type": "code",
   "execution_count": 17,
   "id": "d4075917",
   "metadata": {},
   "outputs": [],
   "source": [
    "import matplotlib.pyplot as plt\n",
    "%matplotlib inline"
   ]
  },
  {
   "cell_type": "code",
   "execution_count": 18,
   "id": "c6c406fd",
   "metadata": {},
   "outputs": [
    {
     "data": {
      "text/plain": [
       "<AxesSubplot:xlabel='x', ylabel='y'>"
      ]
     },
     "execution_count": 18,
     "metadata": {},
     "output_type": "execute_result"
    },
    {
     "data": {
      "image/png": "[encoded data removed]",
      "text/plain": [
       "<Figure size 432x288 with 1 Axes>"
      ]
     },
     "metadata": {
      "needs_background": "light"
     },
     "output_type": "display_data"
    }
   ],
   "source": [
    "data.plot.scatter( x='x', y='y')"
   ]
  },
  {
   "cell_type": "code",
   "execution_count": null,
   "id": "e5171374",
   "metadata": {},
   "outputs": [],
   "source": []
  },
  {
   "cell_type": "markdown",
   "id": "d78269fd",
   "metadata": {},
   "source": [
    "### What Data Visualization gives\n",
    "- Absorb information quickly\n",
    "- Improve insights\n",
    "- Make faster decisions"
   ]
  },
  {
   "cell_type": "markdown",
   "id": "703af8d5",
   "metadata": {},
   "source": [
    "## Data Quality\n",
    "### Is the data quality usable\n",
    "\n",
    "Consider the dataset: `files/sample_height.csv`\n",
    "\n",
    "#### Check for missing values\n",
    "[`isna()`](https://pandas.pydata.org/docs/reference/api/pandas.DataFrame.isna.html)[`.any()`](https://pandas.pydata.org/docs/reference/api/pandas.DataFrame.any.html): Check for any missing values - returns True if missing values\n",
    "```Python\n",
    "data.isna().any()\n",
    "```\n",
    "\n",
    "#### Visualize data\n",
    "- Notice: you need to know something about the data\n",
    "- We know that it is heights of humans in centimeters\n",
    "- This could be checked with a histogram"
   ]
  },
  {
   "cell_type": "code",
   "execution_count": 19,
   "id": "920a4c27",
   "metadata": {},
   "outputs": [],
   "source": [
    "data1 = pd.read_csv('files/sample_height.csv')"
   ]
  },
  {
   "cell_type": "code",
   "execution_count": 20,
   "id": "9008d777",
   "metadata": {},
   "outputs": [
    {
     "data": {
      "text/html": [
       "<div>\n",
       "<style scoped>\n",
       "    .dataframe tbody tr th:only-of-type {\n",
       "        vertical-align: middle;\n",
       "    }\n",
       "\n",
       "    .dataframe tbody tr th {\n",
       "        vertical-align: top;\n",
       "    }\n",
       "\n",
       "    .dataframe thead th {\n",
       "        text-align: right;\n",
       "    }\n",
       "</style>\n",
       "<table border=\"1\" class=\"dataframe\">\n",
       "  <thead>\n",
       "    <tr style=\"text-align: right;\">\n",
       "      <th></th>\n",
       "      <th>height</th>\n",
       "    </tr>\n",
       "  </thead>\n",
       "  <tbody>\n",
       "    <tr>\n",
       "      <th>0</th>\n",
       "      <td>129.150282</td>\n",
       "    </tr>\n",
       "    <tr>\n",
       "      <th>1</th>\n",
       "      <td>163.277930</td>\n",
       "    </tr>\n",
       "    <tr>\n",
       "      <th>2</th>\n",
       "      <td>173.965641</td>\n",
       "    </tr>\n",
       "    <tr>\n",
       "      <th>3</th>\n",
       "      <td>168.933825</td>\n",
       "    </tr>\n",
       "    <tr>\n",
       "      <th>4</th>\n",
       "      <td>171.075462</td>\n",
       "    </tr>\n",
       "  </tbody>\n",
       "</table>\n",
       "</div>"
      ],
      "text/plain": [
       "       height\n",
       "0  129.150282\n",
       "1  163.277930\n",
       "2  173.965641\n",
       "3  168.933825\n",
       "4  171.075462"
      ]
     },
     "execution_count": 20,
     "metadata": {},
     "output_type": "execute_result"
    }
   ],
   "source": [
    "data1.head()"
   ]
  },
  {
   "cell_type": "code",
   "execution_count": 21,
   "id": "9638c5e2",
   "metadata": {},
   "outputs": [
    {
     "data": {
      "text/plain": [
       "<AxesSubplot:ylabel='Frequency'>"
      ]
     },
     "execution_count": 21,
     "metadata": {},
     "output_type": "execute_result"
    },
    {
     "data": {
      "image/png": "[encoded data removed]",
      "text/plain": [
       "<Figure size 432x288 with 1 Axes>"
      ]
     },
     "metadata": {
      "needs_background": "light"
     },
     "output_type": "display_data"
    }
   ],
   "source": [
    "data1.plot.hist()"
   ]
  },
  {
   "cell_type": "code",
   "execution_count": 26,
   "id": "6c2c6f7f",
   "metadata": {},
   "outputs": [
    {
     "data": {
      "text/html": [
       "<div>\n",
       "<style scoped>\n",
       "    .dataframe tbody tr th:only-of-type {\n",
       "        vertical-align: middle;\n",
       "    }\n",
       "\n",
       "    .dataframe tbody tr th {\n",
       "        vertical-align: top;\n",
       "    }\n",
       "\n",
       "    .dataframe thead th {\n",
       "        text-align: right;\n",
       "    }\n",
       "</style>\n",
       "<table border=\"1\" class=\"dataframe\">\n",
       "  <thead>\n",
       "    <tr style=\"text-align: right;\">\n",
       "      <th></th>\n",
       "      <th>height</th>\n",
       "    </tr>\n",
       "  </thead>\n",
       "  <tbody>\n",
       "    <tr>\n",
       "      <th>17</th>\n",
       "      <td>1.913196</td>\n",
       "    </tr>\n",
       "    <tr>\n",
       "      <th>22</th>\n",
       "      <td>1.629159</td>\n",
       "    </tr>\n",
       "    <tr>\n",
       "      <th>23</th>\n",
       "      <td>1.753424</td>\n",
       "    </tr>\n",
       "    <tr>\n",
       "      <th>27</th>\n",
       "      <td>1.854795</td>\n",
       "    </tr>\n",
       "    <tr>\n",
       "      <th>50</th>\n",
       "      <td>1.914587</td>\n",
       "    </tr>\n",
       "    <tr>\n",
       "      <th>60</th>\n",
       "      <td>1.642295</td>\n",
       "    </tr>\n",
       "    <tr>\n",
       "      <th>73</th>\n",
       "      <td>1.804588</td>\n",
       "    </tr>\n",
       "    <tr>\n",
       "      <th>82</th>\n",
       "      <td>1.573621</td>\n",
       "    </tr>\n",
       "    <tr>\n",
       "      <th>91</th>\n",
       "      <td>1.550227</td>\n",
       "    </tr>\n",
       "    <tr>\n",
       "      <th>94</th>\n",
       "      <td>1.660700</td>\n",
       "    </tr>\n",
       "    <tr>\n",
       "      <th>97</th>\n",
       "      <td>1.675962</td>\n",
       "    </tr>\n",
       "    <tr>\n",
       "      <th>98</th>\n",
       "      <td>1.712382</td>\n",
       "    </tr>\n",
       "  </tbody>\n",
       "</table>\n",
       "</div>"
      ],
      "text/plain": [
       "      height\n",
       "17  1.913196\n",
       "22  1.629159\n",
       "23  1.753424\n",
       "27  1.854795\n",
       "50  1.914587\n",
       "60  1.642295\n",
       "73  1.804588\n",
       "82  1.573621\n",
       "91  1.550227\n",
       "94  1.660700\n",
       "97  1.675962\n",
       "98  1.712382"
      ]
     },
     "execution_count": 26,
     "metadata": {},
     "output_type": "execute_result"
    }
   ],
   "source": [
    "data1[data1['height']< 50]"
   ]
  },
  {
   "cell_type": "code",
   "execution_count": null,
   "id": "f92fbf04",
   "metadata": {},
   "outputs": [],
   "source": []
  },
  {
   "cell_type": "code",
   "execution_count": null,
   "id": "bcb45b68",
   "metadata": {},
   "outputs": [],
   "source": []
  },
  {
   "cell_type": "markdown",
   "id": "9f52f1b5",
   "metadata": {},
   "source": [
    "### Identifying outliers\n",
    "\n",
    "Consider the dataset: `files/sample_age.csv`\n",
    "\n",
    "#### Visualize with a histogram\n",
    "- This gives fast insights\n",
    "\n",
    "#### Describe the data\n",
    "[`describe()`](https://pandas.pydata.org/docs/reference/api/pandas.DataFrame.describe.html): Makes simple statistics of the DataFrame\n",
    "```Python\n",
    "data.describe()\n",
    "```"
   ]
  },
  {
   "cell_type": "code",
   "execution_count": 27,
   "id": "76c9e5bc",
   "metadata": {},
   "outputs": [],
   "source": [
    "data = pd.read_csv('files/sample_age.csv')"
   ]
  },
  {
   "cell_type": "code",
   "execution_count": 28,
   "id": "f91096fd",
   "metadata": {},
   "outputs": [
    {
     "data": {
      "text/html": [
       "<div>\n",
       "<style scoped>\n",
       "    .dataframe tbody tr th:only-of-type {\n",
       "        vertical-align: middle;\n",
       "    }\n",
       "\n",
       "    .dataframe tbody tr th {\n",
       "        vertical-align: top;\n",
       "    }\n",
       "\n",
       "    .dataframe thead th {\n",
       "        text-align: right;\n",
       "    }\n",
       "</style>\n",
       "<table border=\"1\" class=\"dataframe\">\n",
       "  <thead>\n",
       "    <tr style=\"text-align: right;\">\n",
       "      <th></th>\n",
       "      <th>age</th>\n",
       "    </tr>\n",
       "  </thead>\n",
       "  <tbody>\n",
       "    <tr>\n",
       "      <th>0</th>\n",
       "      <td>30.175921</td>\n",
       "    </tr>\n",
       "    <tr>\n",
       "      <th>1</th>\n",
       "      <td>32.002551</td>\n",
       "    </tr>\n",
       "    <tr>\n",
       "      <th>2</th>\n",
       "      <td>44.518393</td>\n",
       "    </tr>\n",
       "    <tr>\n",
       "      <th>3</th>\n",
       "      <td>56.247751</td>\n",
       "    </tr>\n",
       "    <tr>\n",
       "      <th>4</th>\n",
       "      <td>33.111986</td>\n",
       "    </tr>\n",
       "  </tbody>\n",
       "</table>\n",
       "</div>"
      ],
      "text/plain": [
       "         age\n",
       "0  30.175921\n",
       "1  32.002551\n",
       "2  44.518393\n",
       "3  56.247751\n",
       "4  33.111986"
      ]
     },
     "execution_count": 28,
     "metadata": {},
     "output_type": "execute_result"
    }
   ],
   "source": [
    "data.head()"
   ]
  },
  {
   "cell_type": "code",
   "execution_count": 29,
   "id": "955cc880",
   "metadata": {},
   "outputs": [
    {
     "data": {
      "text/html": [
       "<div>\n",
       "<style scoped>\n",
       "    .dataframe tbody tr th:only-of-type {\n",
       "        vertical-align: middle;\n",
       "    }\n",
       "\n",
       "    .dataframe tbody tr th {\n",
       "        vertical-align: top;\n",
       "    }\n",
       "\n",
       "    .dataframe thead th {\n",
       "        text-align: right;\n",
       "    }\n",
       "</style>\n",
       "<table border=\"1\" class=\"dataframe\">\n",
       "  <thead>\n",
       "    <tr style=\"text-align: right;\">\n",
       "      <th></th>\n",
       "      <th>age</th>\n",
       "    </tr>\n",
       "  </thead>\n",
       "  <tbody>\n",
       "    <tr>\n",
       "      <th>count</th>\n",
       "      <td>100.000000</td>\n",
       "    </tr>\n",
       "    <tr>\n",
       "      <th>mean</th>\n",
       "      <td>42.305997</td>\n",
       "    </tr>\n",
       "    <tr>\n",
       "      <th>std</th>\n",
       "      <td>29.229478</td>\n",
       "    </tr>\n",
       "    <tr>\n",
       "      <th>min</th>\n",
       "      <td>18.273781</td>\n",
       "    </tr>\n",
       "    <tr>\n",
       "      <th>25%</th>\n",
       "      <td>31.871113</td>\n",
       "    </tr>\n",
       "    <tr>\n",
       "      <th>50%</th>\n",
       "      <td>39.376896</td>\n",
       "    </tr>\n",
       "    <tr>\n",
       "      <th>75%</th>\n",
       "      <td>47.779303</td>\n",
       "    </tr>\n",
       "    <tr>\n",
       "      <th>max</th>\n",
       "      <td>314.000000</td>\n",
       "    </tr>\n",
       "  </tbody>\n",
       "</table>\n",
       "</div>"
      ],
      "text/plain": [
       "              age\n",
       "count  100.000000\n",
       "mean    42.305997\n",
       "std     29.229478\n",
       "min     18.273781\n",
       "25%     31.871113\n",
       "50%     39.376896\n",
       "75%     47.779303\n",
       "max    314.000000"
      ]
     },
     "execution_count": 29,
     "metadata": {},
     "output_type": "execute_result"
    }
   ],
   "source": [
    "data.describe()"
   ]
  },
  {
   "cell_type": "code",
   "execution_count": 30,
   "id": "ee411909",
   "metadata": {},
   "outputs": [
    {
     "data": {
      "text/plain": [
       "<AxesSubplot:ylabel='Frequency'>"
      ]
     },
     "execution_count": 30,
     "metadata": {},
     "output_type": "execute_result"
    },
    {
     "data": {
      "image/png": "[encoded data removed]",
      "text/plain": [
       "<Figure size 432x288 with 1 Axes>"
      ]
     },
     "metadata": {
      "needs_background": "light"
     },
     "output_type": "display_data"
    }
   ],
   "source": [
    "data.plot.hist()"
   ]
  },
  {
   "cell_type": "code",
   "execution_count": null,
   "id": "c113f529",
   "metadata": {},
   "outputs": [],
   "source": []
  },
  {
   "cell_type": "markdown",
   "id": "f8552b42",
   "metadata": {},
   "source": [
    "## Data Exploration\n",
    "\n",
    "### Data Visaulization\n",
    "- Absorb information quickly\n",
    "- Improve insights\n",
    "- Make faster decisions"
   ]
  },
  {
   "cell_type": "markdown",
   "id": "af0b3042",
   "metadata": {},
   "source": [
    "### World Bank\n",
    "The [World Bank](https://www.worldbank.org/en/home) is a great source of datasets\n",
    "\n",
    "#### CO2 per capita\n",
    "- Let's explore this dataset [EN.ATM.CO2E.PC](https://data.worldbank.org/indicator/EN.ATM.CO2E.PC)\n",
    "- Already available here: `files/WorldBank-ATM.CO2E.PC_DS2.csv`\n",
    "\n",
    "#### Explore typical Data Visualizations\n",
    "- Simple plot\n",
    "- Set title\n",
    "- Set labels\n",
    "- Adjust axis"
   ]
  },
  {
   "cell_type": "markdown",
   "id": "15adfd6a",
   "metadata": {},
   "source": [
    "#### Read the data"
   ]
  },
  {
   "cell_type": "code",
   "execution_count": 31,
   "id": "fa2831fd",
   "metadata": {},
   "outputs": [],
   "source": [
    "data = pd.read_csv('files/WorldBank-ATM.CO2E.PC_DS2.csv')"
   ]
  },
  {
   "cell_type": "code",
   "execution_count": 32,
   "id": "3345eb5a",
   "metadata": {},
   "outputs": [
    {
     "data": {
      "text/html": [
       "<div>\n",
       "<style scoped>\n",
       "    .dataframe tbody tr th:only-of-type {\n",
       "        vertical-align: middle;\n",
       "    }\n",
       "\n",
       "    .dataframe tbody tr th {\n",
       "        vertical-align: top;\n",
       "    }\n",
       "\n",
       "    .dataframe thead th {\n",
       "        text-align: right;\n",
       "    }\n",
       "</style>\n",
       "<table border=\"1\" class=\"dataframe\">\n",
       "  <thead>\n",
       "    <tr style=\"text-align: right;\">\n",
       "      <th></th>\n",
       "      <th>Year</th>\n",
       "      <th>ABW</th>\n",
       "      <th>AFE</th>\n",
       "      <th>AFG</th>\n",
       "      <th>AFW</th>\n",
       "      <th>AGO</th>\n",
       "      <th>ALB</th>\n",
       "      <th>AND</th>\n",
       "      <th>ARB</th>\n",
       "      <th>ARE</th>\n",
       "      <th>...</th>\n",
       "      <th>VIR</th>\n",
       "      <th>VNM</th>\n",
       "      <th>VUT</th>\n",
       "      <th>WLD</th>\n",
       "      <th>WSM</th>\n",
       "      <th>XKX</th>\n",
       "      <th>YEM</th>\n",
       "      <th>ZAF</th>\n",
       "      <th>ZMB</th>\n",
       "      <th>ZWE</th>\n",
       "    </tr>\n",
       "  </thead>\n",
       "  <tbody>\n",
       "    <tr>\n",
       "      <th>0</th>\n",
       "      <td>1960</td>\n",
       "      <td>204.631696</td>\n",
       "      <td>0.906060</td>\n",
       "      <td>0.046057</td>\n",
       "      <td>0.090880</td>\n",
       "      <td>0.100835</td>\n",
       "      <td>1.258195</td>\n",
       "      <td>NaN</td>\n",
       "      <td>0.609268</td>\n",
       "      <td>0.119037</td>\n",
       "      <td>...</td>\n",
       "      <td>NaN</td>\n",
       "      <td>0.181947</td>\n",
       "      <td>NaN</td>\n",
       "      <td>3.121158</td>\n",
       "      <td>0.135031</td>\n",
       "      <td>NaN</td>\n",
       "      <td>0.011038</td>\n",
       "      <td>5.727223</td>\n",
       "      <td>NaN</td>\n",
       "      <td>NaN</td>\n",
       "    </tr>\n",
       "    <tr>\n",
       "      <th>1</th>\n",
       "      <td>1961</td>\n",
       "      <td>208.837879</td>\n",
       "      <td>0.922474</td>\n",
       "      <td>0.053589</td>\n",
       "      <td>0.095283</td>\n",
       "      <td>0.082204</td>\n",
       "      <td>1.374186</td>\n",
       "      <td>NaN</td>\n",
       "      <td>0.662618</td>\n",
       "      <td>0.109136</td>\n",
       "      <td>...</td>\n",
       "      <td>NaN</td>\n",
       "      <td>0.183099</td>\n",
       "      <td>NaN</td>\n",
       "      <td>3.068090</td>\n",
       "      <td>0.163542</td>\n",
       "      <td>NaN</td>\n",
       "      <td>0.013599</td>\n",
       "      <td>5.832621</td>\n",
       "      <td>NaN</td>\n",
       "      <td>NaN</td>\n",
       "    </tr>\n",
       "    <tr>\n",
       "      <th>2</th>\n",
       "      <td>1962</td>\n",
       "      <td>226.081890</td>\n",
       "      <td>0.930816</td>\n",
       "      <td>0.073721</td>\n",
       "      <td>0.096612</td>\n",
       "      <td>0.210533</td>\n",
       "      <td>1.439956</td>\n",
       "      <td>NaN</td>\n",
       "      <td>0.727117</td>\n",
       "      <td>0.163542</td>\n",
       "      <td>...</td>\n",
       "      <td>NaN</td>\n",
       "      <td>0.217694</td>\n",
       "      <td>0.595002</td>\n",
       "      <td>3.114839</td>\n",
       "      <td>0.158377</td>\n",
       "      <td>NaN</td>\n",
       "      <td>0.012729</td>\n",
       "      <td>5.887168</td>\n",
       "      <td>NaN</td>\n",
       "      <td>NaN</td>\n",
       "    </tr>\n",
       "    <tr>\n",
       "      <th>3</th>\n",
       "      <td>1963</td>\n",
       "      <td>214.785217</td>\n",
       "      <td>0.940570</td>\n",
       "      <td>0.074161</td>\n",
       "      <td>0.112376</td>\n",
       "      <td>0.202739</td>\n",
       "      <td>1.181681</td>\n",
       "      <td>NaN</td>\n",
       "      <td>0.853116</td>\n",
       "      <td>0.175833</td>\n",
       "      <td>...</td>\n",
       "      <td>NaN</td>\n",
       "      <td>0.196997</td>\n",
       "      <td>0.471849</td>\n",
       "      <td>3.221195</td>\n",
       "      <td>0.184037</td>\n",
       "      <td>NaN</td>\n",
       "      <td>0.014518</td>\n",
       "      <td>5.961337</td>\n",
       "      <td>NaN</td>\n",
       "      <td>NaN</td>\n",
       "    </tr>\n",
       "    <tr>\n",
       "      <th>4</th>\n",
       "      <td>1964</td>\n",
       "      <td>207.626699</td>\n",
       "      <td>0.996033</td>\n",
       "      <td>0.086174</td>\n",
       "      <td>0.133258</td>\n",
       "      <td>0.213562</td>\n",
       "      <td>1.111742</td>\n",
       "      <td>NaN</td>\n",
       "      <td>0.972381</td>\n",
       "      <td>0.132815</td>\n",
       "      <td>...</td>\n",
       "      <td>NaN</td>\n",
       "      <td>0.209870</td>\n",
       "      <td>0.864427</td>\n",
       "      <td>3.324046</td>\n",
       "      <td>0.208106</td>\n",
       "      <td>NaN</td>\n",
       "      <td>0.017550</td>\n",
       "      <td>6.332343</td>\n",
       "      <td>0.946606</td>\n",
       "      <td>1.034904</td>\n",
       "    </tr>\n",
       "  </tbody>\n",
       "</table>\n",
       "<p>5 rows × 267 columns</p>\n",
       "</div>"
      ],
      "text/plain": [
       "   Year         ABW       AFE       AFG       AFW       AGO       ALB  AND  \\\n",
       "0  1960  204.631696  0.906060  0.046057  0.090880  0.100835  1.258195  NaN   \n",
       "1  1961  208.837879  0.922474  0.053589  0.095283  0.082204  1.374186  NaN   \n",
       "2  1962  226.081890  0.930816  0.073721  0.096612  0.210533  1.439956  NaN   \n",
       "3  1963  214.785217  0.940570  0.074161  0.112376  0.202739  1.181681  NaN   \n",
       "4  1964  207.626699  0.996033  0.086174  0.133258  0.213562  1.111742  NaN   \n",
       "\n",
       "        ARB       ARE  ...  VIR       VNM       VUT       WLD       WSM  XKX  \\\n",
       "0  0.609268  0.119037  ...  NaN  0.181947       NaN  3.121158  0.135031  NaN   \n",
       "1  0.662618  0.109136  ...  NaN  0.183099       NaN  3.068090  0.163542  NaN   \n",
       "2  0.727117  0.163542  ...  NaN  0.217694  0.595002  3.114839  0.158377  NaN   \n",
       "3  0.853116  0.175833  ...  NaN  0.196997  0.471849  3.221195  0.184037  NaN   \n",
       "4  0.972381  0.132815  ...  NaN  0.209870  0.864427  3.324046  0.208106  NaN   \n",
       "\n",
       "        YEM       ZAF       ZMB       ZWE  \n",
       "0  0.011038  5.727223       NaN       NaN  \n",
       "1  0.013599  5.832621       NaN       NaN  \n",
       "2  0.012729  5.887168       NaN       NaN  \n",
       "3  0.014518  5.961337       NaN       NaN  \n",
       "4  0.017550  6.332343  0.946606  1.034904  \n",
       "\n",
       "[5 rows x 267 columns]"
      ]
     },
     "execution_count": 32,
     "metadata": {},
     "output_type": "execute_result"
    }
   ],
   "source": [
    "data.head()"
   ]
  },
  {
   "cell_type": "markdown",
   "id": "9452886d",
   "metadata": {},
   "source": [
    "#### Simple plot\n",
    "- ```.plot()``` Creates a simple plot of data\n",
    "- This gives you an idea of the data"
   ]
  },
  {
   "cell_type": "code",
   "execution_count": 33,
   "id": "1357fea3",
   "metadata": {},
   "outputs": [
    {
     "data": {
      "text/plain": [
       "<AxesSubplot:>"
      ]
     },
     "execution_count": 33,
     "metadata": {},
     "output_type": "execute_result"
    },
    {
     "data": {
      "image/png": "[encoded data removed]",
      "text/plain": [
       "<Figure size 432x288 with 1 Axes>"
      ]
     },
     "metadata": {
      "needs_background": "light"
     },
     "output_type": "display_data"
    }
   ],
   "source": [
    "data['USA'].plot()"
   ]
  },
  {
   "cell_type": "code",
   "execution_count": null,
   "id": "6c155405",
   "metadata": {},
   "outputs": [],
   "source": []
  },
  {
   "cell_type": "markdown",
   "id": "59db0683",
   "metadata": {},
   "source": [
    "#### Adding title and labels\n",
    "Arguments\n",
    "- ```title='Tilte'``` adds the title\n",
    "- ```xlabel='X label'``` adds or changes the X-label\n",
    "- ```ylabel='X label'``` adds or changes the Y-label"
   ]
  },
  {
   "cell_type": "code",
   "execution_count": 38,
   "id": "46ccc8be",
   "metadata": {},
   "outputs": [
    {
     "data": {
      "text/plain": [
       "<AxesSubplot:title={'center':'C02 per capita in USA'}, ylabel='C02 per capita'>"
      ]
     },
     "execution_count": 38,
     "metadata": {},
     "output_type": "execute_result"
    },
    {
     "data": {
      "image/png": "[encoded data removed]",
      "text/plain": [
       "<Figure size 432x288 with 1 Axes>"
      ]
     },
     "metadata": {
      "needs_background": "light"
     },
     "output_type": "display_data"
    }
   ],
   "source": [
    "data['USA'].plot(title='C02 per capita in USA', ylabel='C02 per capita')"
   ]
  },
  {
   "cell_type": "code",
   "execution_count": null,
   "id": "229a133b",
   "metadata": {},
   "outputs": [],
   "source": []
  },
  {
   "cell_type": "markdown",
   "id": "22986250",
   "metadata": {},
   "source": [
    "#### Adding axis range\n",
    "- ```xlim=(min, max)``` or ```xlim=min``` Sets the x-axis range\n",
    "- ```ylim=(min, max)``` or ```ylim=min``` Sets the y-axis range"
   ]
  },
  {
   "cell_type": "code",
   "execution_count": 41,
   "id": "ef798583",
   "metadata": {},
   "outputs": [
    {
     "data": {
      "text/plain": [
       "<AxesSubplot:title={'center':'C02 per capita in USA'}, ylabel='C02 per capita'>"
      ]
     },
     "execution_count": 41,
     "metadata": {},
     "output_type": "execute_result"
    },
    {
     "data": {
      "image/png": "[encoded data removed]",
      "text/plain": [
       "<Figure size 432x288 with 1 Axes>"
      ]
     },
     "metadata": {
      "needs_background": "light"
     },
     "output_type": "display_data"
    }
   ],
   "source": [
    "data['USA'].plot(title='C02 per capita in USA', ylabel='C02 per capita', ylim=0)"
   ]
  },
  {
   "cell_type": "code",
   "execution_count": null,
   "id": "fa5357eb",
   "metadata": {},
   "outputs": [],
   "source": []
  },
  {
   "cell_type": "markdown",
   "id": "5c317580",
   "metadata": {},
   "source": [
    "### Comparing data\n",
    "- Explore **USA** and **WLD**"
   ]
  },
  {
   "cell_type": "code",
   "execution_count": 45,
   "id": "40667198",
   "metadata": {},
   "outputs": [
    {
     "data": {
      "text/plain": [
       "<AxesSubplot:>"
      ]
     },
     "execution_count": 45,
     "metadata": {},
     "output_type": "execute_result"
    },
    {
     "data": {
      "image/png": "[encoded data removed]",
      "text/plain": [
       "<Figure size 432x288 with 1 Axes>"
      ]
     },
     "metadata": {
      "needs_background": "light"
     },
     "output_type": "display_data"
    }
   ],
   "source": [
    "data[['USA', 'WLD']].plot(ylim=0)"
   ]
  },
  {
   "cell_type": "code",
   "execution_count": null,
   "id": "125d0b9c",
   "metadata": {},
   "outputs": [],
   "source": []
  },
  {
   "cell_type": "markdown",
   "id": "07642699",
   "metadata": {},
   "source": [
    "#### Set the figure size\n",
    "- ```figsize=(width, height)``` in inches"
   ]
  },
  {
   "cell_type": "code",
   "execution_count": null,
   "id": "9b11af59",
   "metadata": {},
   "outputs": [],
   "source": []
  },
  {
   "cell_type": "code",
   "execution_count": null,
   "id": "cf32a975",
   "metadata": {},
   "outputs": [],
   "source": []
  },
  {
   "cell_type": "markdown",
   "id": "447a4bcf",
   "metadata": {},
   "source": [
    "### Bar plot\n",
    "- ```.plot.bar()``` Create a bar plot"
   ]
  },
  {
   "cell_type": "code",
   "execution_count": null,
   "id": "a75537e0",
   "metadata": {},
   "outputs": [],
   "source": []
  },
  {
   "cell_type": "code",
   "execution_count": null,
   "id": "8d949410",
   "metadata": {},
   "outputs": [],
   "source": []
  },
  {
   "cell_type": "markdown",
   "id": "e29639c4",
   "metadata": {},
   "source": [
    "### Plot a range of data\n",
    "- ```.loc[from:to]``` apply this on the DataFrame to get a range (both inclusive)"
   ]
  },
  {
   "cell_type": "code",
   "execution_count": null,
   "id": "5eefb6df",
   "metadata": {},
   "outputs": [],
   "source": []
  },
  {
   "cell_type": "code",
   "execution_count": null,
   "id": "fcb49156",
   "metadata": {},
   "outputs": [],
   "source": []
  },
  {
   "cell_type": "markdown",
   "id": "d5739df8",
   "metadata": {},
   "source": [
    "### Histogram\n",
    "- ```.plot.hist()``` Create a histogram\n",
    "- ```bins=<number of bins>``` Specify the number of bins in the histogram."
   ]
  },
  {
   "cell_type": "code",
   "execution_count": null,
   "id": "3e277186",
   "metadata": {},
   "outputs": [],
   "source": []
  },
  {
   "cell_type": "code",
   "execution_count": null,
   "id": "807e74ae",
   "metadata": {},
   "outputs": [],
   "source": []
  },
  {
   "cell_type": "markdown",
   "id": "565e931d",
   "metadata": {},
   "source": [
    "### Pie chart\n",
    "- ```.plot.pie()``` Creates a Pie Chart"
   ]
  },
  {
   "cell_type": "code",
   "execution_count": null,
   "id": "ea32f93b",
   "metadata": {},
   "outputs": [],
   "source": []
  },
  {
   "cell_type": "code",
   "execution_count": null,
   "id": "5c2d55af",
   "metadata": {},
   "outputs": [],
   "source": []
  },
  {
   "cell_type": "markdown",
   "id": "0122ddf5",
   "metadata": {},
   "source": [
    "### Value counts and pie charts\n",
    "- A simple chart of values above/below a threshold\n",
    "- ```.value_counts()``` Counts occurences of values in a Series (or DataFrame column)\n",
    "- A few arguments to ```.plot.pie()```\n",
    "    - ```colors=<list of colors>```\n",
    "    - ```labels=<list of labels>```\n",
    "    - ```title='<title>'```\n",
    "    - ```ylabel='<label>'```\n",
    "    - ```autopct='%1.1f%%'``` sets percentages on chart"
   ]
  },
  {
   "cell_type": "code",
   "execution_count": null,
   "id": "9ef77085",
   "metadata": {},
   "outputs": [],
   "source": []
  },
  {
   "cell_type": "code",
   "execution_count": null,
   "id": "8eb75cdb",
   "metadata": {},
   "outputs": [],
   "source": []
  },
  {
   "cell_type": "markdown",
   "id": "8a088d51",
   "metadata": {},
   "source": [
    "### Scatter plot\n",
    "- Assume we want to investigate if GDP per capita and CO2 per capita are correlated\n",
    "    - Data available in *'files/co2_gdp_per_capita.csv'*\n",
    "- ```.plot.scatter(x=<label>, y=<label>)``` Create a scatter plot\n",
    "- ```.corr()``` Compute pairwise correlation of columns ([docs](https://pandas.pydata.org/docs/reference/api/pandas.DataFrame.corr.html))"
   ]
  },
  {
   "cell_type": "code",
   "execution_count": null,
   "id": "32b2559f",
   "metadata": {},
   "outputs": [],
   "source": []
  },
  {
   "cell_type": "code",
   "execution_count": null,
   "id": "0628088d",
   "metadata": {},
   "outputs": [],
   "source": []
  },
  {
   "cell_type": "code",
   "execution_count": null,
   "id": "0387ce05",
   "metadata": {},
   "outputs": [],
   "source": []
  },
  {
   "cell_type": "code",
   "execution_count": null,
   "id": "05119538",
   "metadata": {},
   "outputs": [],
   "source": []
  },
  {
   "cell_type": "markdown",
   "id": "c58d75f4",
   "metadata": {},
   "source": [
    "## Data Presentation\n",
    "- This is about making data esay to digest"
   ]
  },
  {
   "cell_type": "markdown",
   "id": "ea0387b3",
   "metadata": {},
   "source": [
    "### The message\n",
    "Assume we want to give a picture of how US CO2 per capita is compared to the rest of the world"
   ]
  },
  {
   "cell_type": "markdown",
   "id": "86cac32b",
   "metadata": {},
   "source": [
    "#### Preparation\n",
    "- Let's take 2017 (as more recent data is incomplete)\n",
    "- What is the mean, max, and min CO2 per capital in the world"
   ]
  },
  {
   "cell_type": "code",
   "execution_count": null,
   "id": "677ca266",
   "metadata": {},
   "outputs": [],
   "source": []
  },
  {
   "cell_type": "code",
   "execution_count": null,
   "id": "9c1c71e4",
   "metadata": {},
   "outputs": [],
   "source": []
  },
  {
   "cell_type": "code",
   "execution_count": null,
   "id": "e44967ed",
   "metadata": {},
   "outputs": [],
   "source": []
  },
  {
   "cell_type": "code",
   "execution_count": null,
   "id": "b598adc8",
   "metadata": {},
   "outputs": [],
   "source": []
  },
  {
   "cell_type": "code",
   "execution_count": null,
   "id": "5f79b579",
   "metadata": {},
   "outputs": [],
   "source": []
  },
  {
   "cell_type": "markdown",
   "id": "d85a0348",
   "metadata": {},
   "source": [
    "#### And in the US?"
   ]
  },
  {
   "cell_type": "code",
   "execution_count": null,
   "id": "3d022ae7",
   "metadata": {},
   "outputs": [],
   "source": []
  },
  {
   "cell_type": "code",
   "execution_count": null,
   "id": "b3744ad2",
   "metadata": {},
   "outputs": [],
   "source": []
  },
  {
   "cell_type": "markdown",
   "id": "570ca224",
   "metadata": {},
   "source": [
    "#### How can we tell a story?\n",
    "- US is above the mean\n",
    "- US is not the max\n",
    "- It is above 75%"
   ]
  },
  {
   "cell_type": "markdown",
   "id": "43528fd1",
   "metadata": {},
   "source": [
    "#### Some more advanced matplotlib"
   ]
  },
  {
   "cell_type": "code",
   "execution_count": null,
   "id": "6b1048a2",
   "metadata": {},
   "outputs": [],
   "source": []
  },
  {
   "cell_type": "markdown",
   "id": "a7a6591d",
   "metadata": {},
   "source": [
    "### Creative story telling with data visualization\n",
    "\n",
    "Check out this video https://www.youtube.com/watch?v=jbkSRLYSojo"
   ]
  },
  {
   "cell_type": "code",
   "execution_count": null,
   "id": "86304da3",
   "metadata": {},
   "outputs": [],
   "source": []
  },
  {
   "cell_type": "code",
   "execution_count": null,
   "id": "1e9d0d36",
   "metadata": {},
   "outputs": [],
   "source": []
  }
 ],
 "metadata": {
  "kernelspec": {
   "display_name": "Python 3 (ipykernel)",
   "language": "python",
   "name": "python3"
  },
  "language_info": {
   "codemirror_mode": {
    "name": "ipython",
    "version": 3
   },
   "file_extension": ".py",
   "mimetype": "text/x-python",
   "name": "python",
   "nbconvert_exporter": "python",
   "pygments_lexer": "ipython3",
   "version": "3.8.5"
  }
 },
 "nbformat": 4,
 "nbformat_minor": 5
}
