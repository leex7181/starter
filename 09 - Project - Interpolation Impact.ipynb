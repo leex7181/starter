{
 "cells": [
  {
   "cell_type": "markdown",
   "id": "39c877c9",
   "metadata": {},
   "source": [
    "# Project - Measure Interpolation Impact"
   ]
  },
  {
   "cell_type": "markdown",
   "id": "26869a35",
   "metadata": {},
   "source": [
    "![Data Science Workflow](img/ds-workflow.png)"
   ]
  },
  {
   "cell_type": "markdown",
   "id": "07fd08f8",
   "metadata": {},
   "source": [
    "## Goal of Project\n",
    "- The goal of the project is to see how big impact interpolation can have on results.\n",
    "- The focus is mainly on step 2.\n",
    "- To see the impact we will make simple model usages.\n",
    "- The project will not go into details of steps 3 to 5."
   ]
  },
  {
   "cell_type": "markdown",
   "id": "77f362c4",
   "metadata": {},
   "source": [
    "## Step 1: Acquire\n",
    "- Explore problem\n",
    "- Identify data\n",
    "- Import data"
   ]
  },
  {
   "cell_type": "markdown",
   "id": "6f8cbbcb",
   "metadata": {},
   "source": [
    "### Step 1.a: Import libraries\n",
    "- Execute the cell below (SHIFT + ENTER)"
   ]
  },
  {
   "cell_type": "code",
   "execution_count": 1,
   "id": "b1663203",
   "metadata": {},
   "outputs": [],
   "source": [
    "import pandas as pd\n",
    "import numpy as np\n",
    "from sklearn.linear_model import LinearRegression\n",
    "from sklearn.model_selection import train_test_split\n",
    "from sklearn.metrics import r2_score\n",
    "import matplotlib.pyplot as plt\n",
    "%matplotlib inline"
   ]
  },
  {
   "cell_type": "markdown",
   "id": "b5f9a799",
   "metadata": {},
   "source": [
    "### Step 1.b: Read the data\n",
    "- Use ```pd.read_parquet()``` to read the file `files/weather-predict.parquet`\n",
    "- NOTE: Remember to assign the result to a variable (e.g., ```data```)\n",
    "- Apply ```.head()``` on the data to see all is as expected"
   ]
  },
  {
   "cell_type": "code",
   "execution_count": 2,
   "id": "8df39d7c",
   "metadata": {},
   "outputs": [
    {
     "ename": "ImportError",
     "evalue": "Unable to find a usable engine; tried using: 'pyarrow', 'fastparquet'.\nA suitable version of pyarrow or fastparquet is required for parquet support.\nTrying to import the above resulted in these errors:\n - Missing optional dependency 'pyarrow'. pyarrow is required for parquet support. Use pip or conda to install pyarrow.\n - Missing optional dependency 'fastparquet'. fastparquet is required for parquet support. Use pip or conda to install fastparquet.",
     "output_type": "error",
     "traceback": [
      "\u001b[0;31m---------------------------------------------------------------------------\u001b[0m",
      "\u001b[0;31mImportError\u001b[0m                               Traceback (most recent call last)",
      "\u001b[1;32m/Users/leebyunghun/Documents/GitHub/starter/09 - Project - Interpolation Impact.ipynb Cell 8'\u001b[0m in \u001b[0;36m<cell line: 1>\u001b[0;34m()\u001b[0m\n\u001b[0;32m----> <a href='vscode-notebook-cell:/Users/leebyunghun/Documents/GitHub/starter/09%20-%20Project%20-%20Interpolation%20Impact.ipynb#ch0000007?line=0'>1</a>\u001b[0m data \u001b[39m=\u001b[39m pd\u001b[39m.\u001b[39;49mread_parquet(\u001b[39m'\u001b[39;49m\u001b[39mhttps://raw.githubusercontent.com/LearnPythonWithRune/DataScienceWithPython/main/jupyter/final/files/weather-predict.parquet\u001b[39;49m\u001b[39m'\u001b[39;49m)\n",
      "File \u001b[0;32m~/opt/anaconda3/lib/python3.8/site-packages/pandas/io/parquet.py:493\u001b[0m, in \u001b[0;36mread_parquet\u001b[0;34m(path, engine, columns, storage_options, use_nullable_dtypes, **kwargs)\u001b[0m\n\u001b[1;32m    <a href='file:///Users/leebyunghun/opt/anaconda3/lib/python3.8/site-packages/pandas/io/parquet.py?line=432'>433</a>\u001b[0m \u001b[39m@doc\u001b[39m(storage_options\u001b[39m=\u001b[39mgeneric\u001b[39m.\u001b[39m_shared_docs[\u001b[39m\"\u001b[39m\u001b[39mstorage_options\u001b[39m\u001b[39m\"\u001b[39m])\n\u001b[1;32m    <a href='file:///Users/leebyunghun/opt/anaconda3/lib/python3.8/site-packages/pandas/io/parquet.py?line=433'>434</a>\u001b[0m \u001b[39mdef\u001b[39;00m \u001b[39mread_parquet\u001b[39m(\n\u001b[1;32m    <a href='file:///Users/leebyunghun/opt/anaconda3/lib/python3.8/site-packages/pandas/io/parquet.py?line=434'>435</a>\u001b[0m     path,\n\u001b[0;32m   (...)\u001b[0m\n\u001b[1;32m    <a href='file:///Users/leebyunghun/opt/anaconda3/lib/python3.8/site-packages/pandas/io/parquet.py?line=439'>440</a>\u001b[0m     \u001b[39m*\u001b[39m\u001b[39m*\u001b[39mkwargs,\n\u001b[1;32m    <a href='file:///Users/leebyunghun/opt/anaconda3/lib/python3.8/site-packages/pandas/io/parquet.py?line=440'>441</a>\u001b[0m ):\n\u001b[1;32m    <a href='file:///Users/leebyunghun/opt/anaconda3/lib/python3.8/site-packages/pandas/io/parquet.py?line=441'>442</a>\u001b[0m     \u001b[39m\"\"\"\u001b[39;00m\n\u001b[1;32m    <a href='file:///Users/leebyunghun/opt/anaconda3/lib/python3.8/site-packages/pandas/io/parquet.py?line=442'>443</a>\u001b[0m \u001b[39m    Load a parquet object from the file path, returning a DataFrame.\u001b[39;00m\n\u001b[1;32m    <a href='file:///Users/leebyunghun/opt/anaconda3/lib/python3.8/site-packages/pandas/io/parquet.py?line=443'>444</a>\u001b[0m \n\u001b[0;32m   (...)\u001b[0m\n\u001b[1;32m    <a href='file:///Users/leebyunghun/opt/anaconda3/lib/python3.8/site-packages/pandas/io/parquet.py?line=490'>491</a>\u001b[0m \u001b[39m    DataFrame\u001b[39;00m\n\u001b[1;32m    <a href='file:///Users/leebyunghun/opt/anaconda3/lib/python3.8/site-packages/pandas/io/parquet.py?line=491'>492</a>\u001b[0m \u001b[39m    \"\"\"\u001b[39;00m\n\u001b[0;32m--> <a href='file:///Users/leebyunghun/opt/anaconda3/lib/python3.8/site-packages/pandas/io/parquet.py?line=492'>493</a>\u001b[0m     impl \u001b[39m=\u001b[39m get_engine(engine)\n\u001b[1;32m    <a href='file:///Users/leebyunghun/opt/anaconda3/lib/python3.8/site-packages/pandas/io/parquet.py?line=494'>495</a>\u001b[0m     \u001b[39mreturn\u001b[39;00m impl\u001b[39m.\u001b[39mread(\n\u001b[1;32m    <a href='file:///Users/leebyunghun/opt/anaconda3/lib/python3.8/site-packages/pandas/io/parquet.py?line=495'>496</a>\u001b[0m         path,\n\u001b[1;32m    <a href='file:///Users/leebyunghun/opt/anaconda3/lib/python3.8/site-packages/pandas/io/parquet.py?line=496'>497</a>\u001b[0m         columns\u001b[39m=\u001b[39mcolumns,\n\u001b[0;32m   (...)\u001b[0m\n\u001b[1;32m    <a href='file:///Users/leebyunghun/opt/anaconda3/lib/python3.8/site-packages/pandas/io/parquet.py?line=499'>500</a>\u001b[0m         \u001b[39m*\u001b[39m\u001b[39m*\u001b[39mkwargs,\n\u001b[1;32m    <a href='file:///Users/leebyunghun/opt/anaconda3/lib/python3.8/site-packages/pandas/io/parquet.py?line=500'>501</a>\u001b[0m     )\n",
      "File \u001b[0;32m~/opt/anaconda3/lib/python3.8/site-packages/pandas/io/parquet.py:53\u001b[0m, in \u001b[0;36mget_engine\u001b[0;34m(engine)\u001b[0m\n\u001b[1;32m     <a href='file:///Users/leebyunghun/opt/anaconda3/lib/python3.8/site-packages/pandas/io/parquet.py?line=49'>50</a>\u001b[0m         \u001b[39mexcept\u001b[39;00m \u001b[39mImportError\u001b[39;00m \u001b[39mas\u001b[39;00m err:\n\u001b[1;32m     <a href='file:///Users/leebyunghun/opt/anaconda3/lib/python3.8/site-packages/pandas/io/parquet.py?line=50'>51</a>\u001b[0m             error_msgs \u001b[39m+\u001b[39m\u001b[39m=\u001b[39m \u001b[39m\"\u001b[39m\u001b[39m\\n\u001b[39;00m\u001b[39m - \u001b[39m\u001b[39m\"\u001b[39m \u001b[39m+\u001b[39m \u001b[39mstr\u001b[39m(err)\n\u001b[0;32m---> <a href='file:///Users/leebyunghun/opt/anaconda3/lib/python3.8/site-packages/pandas/io/parquet.py?line=52'>53</a>\u001b[0m     \u001b[39mraise\u001b[39;00m \u001b[39mImportError\u001b[39;00m(\n\u001b[1;32m     <a href='file:///Users/leebyunghun/opt/anaconda3/lib/python3.8/site-packages/pandas/io/parquet.py?line=53'>54</a>\u001b[0m         \u001b[39m\"\u001b[39m\u001b[39mUnable to find a usable engine; \u001b[39m\u001b[39m\"\u001b[39m\n\u001b[1;32m     <a href='file:///Users/leebyunghun/opt/anaconda3/lib/python3.8/site-packages/pandas/io/parquet.py?line=54'>55</a>\u001b[0m         \u001b[39m\"\u001b[39m\u001b[39mtried using: \u001b[39m\u001b[39m'\u001b[39m\u001b[39mpyarrow\u001b[39m\u001b[39m'\u001b[39m\u001b[39m, \u001b[39m\u001b[39m'\u001b[39m\u001b[39mfastparquet\u001b[39m\u001b[39m'\u001b[39m\u001b[39m.\u001b[39m\u001b[39m\\n\u001b[39;00m\u001b[39m\"\u001b[39m\n\u001b[1;32m     <a href='file:///Users/leebyunghun/opt/anaconda3/lib/python3.8/site-packages/pandas/io/parquet.py?line=55'>56</a>\u001b[0m         \u001b[39m\"\u001b[39m\u001b[39mA suitable version of \u001b[39m\u001b[39m\"\u001b[39m\n\u001b[1;32m     <a href='file:///Users/leebyunghun/opt/anaconda3/lib/python3.8/site-packages/pandas/io/parquet.py?line=56'>57</a>\u001b[0m         \u001b[39m\"\u001b[39m\u001b[39mpyarrow or fastparquet is required for parquet \u001b[39m\u001b[39m\"\u001b[39m\n\u001b[1;32m     <a href='file:///Users/leebyunghun/opt/anaconda3/lib/python3.8/site-packages/pandas/io/parquet.py?line=57'>58</a>\u001b[0m         \u001b[39m\"\u001b[39m\u001b[39msupport.\u001b[39m\u001b[39m\\n\u001b[39;00m\u001b[39m\"\u001b[39m\n\u001b[1;32m     <a href='file:///Users/leebyunghun/opt/anaconda3/lib/python3.8/site-packages/pandas/io/parquet.py?line=58'>59</a>\u001b[0m         \u001b[39m\"\u001b[39m\u001b[39mTrying to import the above resulted in these errors:\u001b[39m\u001b[39m\"\u001b[39m\n\u001b[1;32m     <a href='file:///Users/leebyunghun/opt/anaconda3/lib/python3.8/site-packages/pandas/io/parquet.py?line=59'>60</a>\u001b[0m         \u001b[39mf\u001b[39m\u001b[39m\"\u001b[39m\u001b[39m{\u001b[39;00merror_msgs\u001b[39m}\u001b[39;00m\u001b[39m\"\u001b[39m\n\u001b[1;32m     <a href='file:///Users/leebyunghun/opt/anaconda3/lib/python3.8/site-packages/pandas/io/parquet.py?line=60'>61</a>\u001b[0m     )\n\u001b[1;32m     <a href='file:///Users/leebyunghun/opt/anaconda3/lib/python3.8/site-packages/pandas/io/parquet.py?line=62'>63</a>\u001b[0m \u001b[39mif\u001b[39;00m engine \u001b[39m==\u001b[39m \u001b[39m\"\u001b[39m\u001b[39mpyarrow\u001b[39m\u001b[39m\"\u001b[39m:\n\u001b[1;32m     <a href='file:///Users/leebyunghun/opt/anaconda3/lib/python3.8/site-packages/pandas/io/parquet.py?line=63'>64</a>\u001b[0m     \u001b[39mreturn\u001b[39;00m PyArrowImpl()\n",
      "\u001b[0;31mImportError\u001b[0m: Unable to find a usable engine; tried using: 'pyarrow', 'fastparquet'.\nA suitable version of pyarrow or fastparquet is required for parquet support.\nTrying to import the above resulted in these errors:\n - Missing optional dependency 'pyarrow'. pyarrow is required for parquet support. Use pip or conda to install pyarrow.\n - Missing optional dependency 'fastparquet'. fastparquet is required for parquet support. Use pip or conda to install fastparquet."
     ]
    }
   ],
   "source": [
    "data = pd.read_parquet('https://raw.githubusercontent.com/LearnPythonWithRune/DataScienceWithPython/main/jupyter/final/files/weather-predict.parquet')\n"
   ]
  },
  {
   "cell_type": "code",
   "execution_count": null,
   "id": "73e3038f",
   "metadata": {},
   "outputs": [],
   "source": []
  },
  {
   "cell_type": "code",
   "execution_count": null,
   "id": "3e880dcf",
   "metadata": {},
   "outputs": [],
   "source": []
  },
  {
   "cell_type": "markdown",
   "id": "3bec949d",
   "metadata": {},
   "source": [
    "## Step 2: Prepare\n",
    "- Explore data\n",
    "- Visualize ideas\n",
    "- Cleaning data"
   ]
  },
  {
   "cell_type": "markdown",
   "id": "6a5d948d",
   "metadata": {},
   "source": [
    "### Step 2.a: Check the data types\n",
    "- This step tells you if some numeric column is not represented numeric.\n",
    "- Get the data types by ```.dtypes```"
   ]
  },
  {
   "cell_type": "code",
   "execution_count": null,
   "id": "58498943",
   "metadata": {},
   "outputs": [],
   "source": []
  },
  {
   "cell_type": "markdown",
   "id": "a1279c8b",
   "metadata": {},
   "source": [
    "### Step 2.b: Check the length, null-values, and zero values\n",
    "- Check the length\n",
    "    - HINT: Use `len()`\n",
    "- Check the number of null-values\n",
    "    - HINT: Use `.isna().sum()`\n",
    "- Check the number of zero-values\n",
    "    - HINT: Use `(data == 0).sum()`"
   ]
  },
  {
   "cell_type": "code",
   "execution_count": null,
   "id": "26f51f73",
   "metadata": {},
   "outputs": [],
   "source": []
  },
  {
   "cell_type": "code",
   "execution_count": null,
   "id": "6cd27429",
   "metadata": {},
   "outputs": [],
   "source": []
  },
  {
   "cell_type": "code",
   "execution_count": null,
   "id": "bc66ba8d",
   "metadata": {},
   "outputs": [],
   "source": []
  },
  {
   "cell_type": "markdown",
   "id": "4a8c0dd5",
   "metadata": {},
   "source": [
    "### Step 2.c: Baseline\n",
    "- Check the correlation to have a measure if we did nothing\n",
    "    - HINT: Use `corr()`"
   ]
  },
  {
   "cell_type": "code",
   "execution_count": null,
   "id": "da60d8ff",
   "metadata": {},
   "outputs": [],
   "source": []
  },
  {
   "cell_type": "markdown",
   "id": "31e0f5b7",
   "metadata": {},
   "source": [
    "### Step 2.d: Prepare data\n",
    "- We know `Pressure+24` has NaN and 0 values.\n",
    "- These are not correct values and we cannot use them in our model.\n",
    "- Create a `dataset` without these rows.\n",
    "    - HINT: Use filters like `data[data['Pressure+24h'] != 0]` and `dropna()`"
   ]
  },
  {
   "cell_type": "code",
   "execution_count": null,
   "id": "a69306c0",
   "metadata": {},
   "outputs": [],
   "source": []
  },
  {
   "cell_type": "markdown",
   "id": "d9b9ed0a",
   "metadata": {},
   "source": [
    "### Step 2.e: Check the size and zero values\n",
    "- Check the size of datasets `data` and `datasets`\n",
    "- Check how many zero-values each dataset has"
   ]
  },
  {
   "cell_type": "code",
   "execution_count": null,
   "id": "56f9742c",
   "metadata": {},
   "outputs": [],
   "source": []
  },
  {
   "cell_type": "markdown",
   "id": "6418c7fd",
   "metadata": {},
   "source": [
    "### Step 2.f: Check the correlation\n",
    "- For fun check the correlation of `dataset`\n",
    "- Then do the same after you interpolated 0 values\n",
    "    - HINT: Apply `replace` and `interpolate`\n",
    "- Does the result surprice you?\n",
    "- Notice how much interpolation improves the result"
   ]
  },
  {
   "cell_type": "code",
   "execution_count": null,
   "id": "168fb7c1",
   "metadata": {},
   "outputs": [],
   "source": []
  },
  {
   "cell_type": "code",
   "execution_count": null,
   "id": "038e178d",
   "metadata": {},
   "outputs": [],
   "source": []
  },
  {
   "cell_type": "markdown",
   "id": "0db0631e",
   "metadata": {},
   "source": [
    "### Step 2.g: Linear Regression Function\n",
    "- Create function `regression_score` to calculate the r-square score\n",
    "- It should take independent features X and dependent feature y\n",
    "- Then split that into training and testing sets.\n",
    "- Fit the training set.\n",
    "- Predict the test set.\n",
    "- Return the r-square score"
   ]
  },
  {
   "cell_type": "code",
   "execution_count": null,
   "id": "c4f4d05f",
   "metadata": {},
   "outputs": [],
   "source": []
  },
  {
   "cell_type": "markdown",
   "id": "5d608e81",
   "metadata": {},
   "source": [
    "### Step 2.h: Test baseline\n",
    "- Test the `regression_score` function on `dataset`"
   ]
  },
  {
   "cell_type": "code",
   "execution_count": null,
   "id": "5c40b440",
   "metadata": {},
   "outputs": [],
   "source": []
  },
  {
   "cell_type": "markdown",
   "id": "cf6f27ff",
   "metadata": {},
   "source": [
    "### Step 2.i: Test on interploated dataset\n",
    "- Make a interpolated dataset\n",
    "- Get the result (from `regression_score`) for interpolated dataset"
   ]
  },
  {
   "cell_type": "code",
   "execution_count": null,
   "id": "c197a667",
   "metadata": {},
   "outputs": [],
   "source": []
  }
 ],
 "metadata": {
  "kernelspec": {
   "display_name": "Python 3 (ipykernel)",
   "language": "python",
   "name": "python3"
  },
  "language_info": {
   "codemirror_mode": {
    "name": "ipython",
    "version": 3
   },
   "file_extension": ".py",
   "mimetype": "text/x-python",
   "name": "python",
   "nbconvert_exporter": "python",
   "pygments_lexer": "ipython3",
   "version": "3.8.5"
  }
 },
 "nbformat": 4,
 "nbformat_minor": 5
}
